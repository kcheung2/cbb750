{
  "nbformat": 4,
  "nbformat_minor": 0,
  "metadata": {
    "colab": {
      "name": "CBB750_SQL_Lab.ipynb",
      "provenance": [],
      "collapsed_sections": [],
      "include_colab_link": true
    },
    "kernelspec": {
      "name": "python3",
      "display_name": "Python 3"
    }
  },
  "cells": [
    {
      "cell_type": "markdown",
      "metadata": {
        "id": "view-in-github",
        "colab_type": "text"
      },
      "source": [
        "<a href=\"https://colab.research.google.com/github/kcheung2/cbb750/blob/main/CBB750_SQL_Lab.ipynb\" target=\"_parent\"><img src=\"https://colab.research.google.com/assets/colab-badge.svg\" alt=\"Open In Colab\"/></a>"
      ]
    },
    {
      "cell_type": "markdown",
      "metadata": {
        "id": "B9zxBBtwRHjD"
      },
      "source": [
        "## This Lab demonstrates data model design, mysql server installation, database creation, table population, python database connection and SQL query "
      ]
    },
    {
      "cell_type": "markdown",
      "metadata": {
        "id": "NS1WcmKLZtgO"
      },
      "source": [
        "# Database schema design using [MIMIC III](https://mimic.physionet.org/)"
      ]
    },
    {
      "cell_type": "markdown",
      "metadata": {
        "id": "FYIzXMU4Z7wU"
      },
      "source": [
        "1. Use [Vertebelo](https://vertabelo.com/) to create the Patient database model. \r\n",
        "2. Start with the MIMIC III [Patients table](https://mimic.physionet.org/mimictables/patients/). (Change timestamp(0) to datetime)\r\n",
        "3. Export the model to a sql file.  \r\n",
        "4. Use [MIMIC demo datasets](https://physionet.org/content/mimiciii-demo/1.4/) including [PATIENTS.CSV](https://physionet.org/files/mimiciii-demo/1.4/PATIENTS.csv?download)\r\n",
        "5. upload the sql file and csv file to your own google drive"
      ]
    },
    {
      "cell_type": "markdown",
      "metadata": {
        "id": "NVgZF6rfPvMu"
      },
      "source": [
        "## **Mount the google drive**"
      ]
    },
    {
      "cell_type": "code",
      "metadata": {
        "id": "ks5DFjp9PpQO",
        "colab": {
          "base_uri": "https://localhost:8080/"
        },
        "outputId": "e3ace35c-a470-4fd4-c307-91fb9074be6a"
      },
      "source": [
        "from google.colab import drive\n",
        "drive.mount('/content/gdrive')\n"
      ],
      "execution_count": null,
      "outputs": [
        {
          "output_type": "stream",
          "text": [
            "Mounted at /content/gdrive\n"
          ],
          "name": "stdout"
        }
      ]
    },
    {
      "cell_type": "markdown",
      "metadata": {
        "id": "9h4U0Yohcrmb"
      },
      "source": [
        "# Install mysql, start mysql and change root password"
      ]
    },
    {
      "cell_type": "markdown",
      "metadata": {
        "id": "alolP2cIcrT6"
      },
      "source": [
        ""
      ]
    },
    {
      "cell_type": "code",
      "metadata": {
        "id": "Pyr0ePzQcw_k"
      },
      "source": [
        ""
      ],
      "execution_count": null,
      "outputs": []
    },
    {
      "cell_type": "code",
      "metadata": {
        "id": "pns6Ngd-hKRe"
      },
      "source": [
        "#install mysql\n",
        "!apt install mysql-server libmysqlclient-dev"
      ],
      "execution_count": null,
      "outputs": []
    },
    {
      "cell_type": "code",
      "metadata": {
        "id": "Q3eLzEUlkT-L"
      },
      "source": [
        "#start mysql server\n",
        "!service mysql start"
      ],
      "execution_count": null,
      "outputs": []
    },
    {
      "cell_type": "code",
      "metadata": {
        "id": "sLg9IpBRkZqL"
      },
      "source": [
        "#alter the root user to accept cbb750 as the root password\n",
        "!mysql -e \"ALTER USER 'root'@'localhost' IDENTIFIED WITH mysql_native_password BY 'cbb750'\""
      ],
      "execution_count": null,
      "outputs": []
    },
    {
      "cell_type": "code",
      "metadata": {
        "id": "dReDXUtLAWUr",
        "colab": {
          "base_uri": "https://localhost:8080/"
        },
        "outputId": "c6c9fbd0-6dca-4a07-f13d-8ac8d42ce1c6"
      },
      "source": [
        "#create the mimic database and tables; and replace /content/gdrive/MyDrive/cbb750/lab_hw/mimic_test_create.sql if needed\r\n",
        "!mysql -uroot -pcbb750 -e \"DROP DATABASE IF EXISTS mimic;\\\r\n",
        "CREATE DATABASE IF NOT EXISTS mimic;\\\r\n",
        "USE mimic;\\\r\n",
        "SOURCE /content/gdrive/MyDrive/cbb750/lab_hw/mimic_test_create.sql;\\\r\n",
        "COMMIT;\""
      ],
      "execution_count": null,
      "outputs": [
        {
          "output_type": "stream",
          "text": [
            "mysql: [Warning] Using a password on the command line interface can be insecure.\n"
          ],
          "name": "stdout"
        }
      ]
    },
    {
      "cell_type": "code",
      "metadata": {
        "id": "SEplzHVfloDb",
        "colab": {
          "base_uri": "https://localhost:8080/"
        },
        "outputId": "aff94acc-2237-48f4-b0cf-ff3bdfe72978"
      },
      "source": [
        "#install mysql connector in python\n",
        "!pip install mysql-connector-python"
      ],
      "execution_count": null,
      "outputs": [
        {
          "output_type": "stream",
          "text": [
            "Collecting mysql-connector-python\n",
            "\u001b[?25l  Downloading https://files.pythonhosted.org/packages/cc/ec/102bf59d0cdeb3b8fc82d6669bf96d57d133e44811ff57ad5e941bd8588d/mysql_connector_python-8.0.23-cp36-cp36m-manylinux1_x86_64.whl (18.0MB)\n",
            "\u001b[K     |████████████████████████████████| 18.1MB 1.2MB/s \n",
            "\u001b[?25hRequirement already satisfied: protobuf>=3.0.0 in /usr/local/lib/python3.6/dist-packages (from mysql-connector-python) (3.12.4)\n",
            "Requirement already satisfied: setuptools in /usr/local/lib/python3.6/dist-packages (from protobuf>=3.0.0->mysql-connector-python) (53.0.0)\n",
            "Requirement already satisfied: six>=1.9 in /usr/local/lib/python3.6/dist-packages (from protobuf>=3.0.0->mysql-connector-python) (1.15.0)\n",
            "Installing collected packages: mysql-connector-python\n",
            "Successfully installed mysql-connector-python-8.0.23\n"
          ],
          "name": "stdout"
        }
      ]
    },
    {
      "cell_type": "markdown",
      "metadata": {
        "id": "-pqRK8C8iZ6D"
      },
      "source": [
        "## **Python code**"
      ]
    },
    {
      "cell_type": "code",
      "metadata": {
        "id": "qkeu6aFz_2Va"
      },
      "source": [
        "import pandas as pd\n",
        "import mysql.connector\n",
        "\n",
        "cnx = mysql.connector.connect(user='root',\n",
        "                                password='cbb750',\n",
        "                                host='127.0.0.1',\n",
        "                              allow_local_infile=True)\n",
        "\n",
        "\n",
        "db_cursor = cnx.cursor()\n",
        "db_cursor.execute(\"USE mimic\")\n",
        "\n",
        "#if needed, replace /content/gdrive/MyDrive/cbb750/lab_hw/PATIENTS.csv \n",
        "\n",
        "db_cursor.execute(\"Load data local infile \\\n",
        "'/content/gdrive/MyDrive/cbb750/lab_hw/PATIENTS.csv'\\\n",
        " into table Patients fields terminated by ',' ignore 1 lines\")\n",
        "statement=\"SELECT subject_id,gender,dob FROM Patients;\"\n",
        "SQL_Query=pd.read_sql_query(statement, cnx)\n",
        "pd.set_option('display.max_rows', None)\n",
        "df = pd.DataFrame(SQL_Query, columns=['subject_id','gender','dob'])\n",
        "print (df)\n",
        "\n"
      ],
      "execution_count": null,
      "outputs": []
    }
  ]
}