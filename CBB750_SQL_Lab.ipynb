{
  "nbformat": 4,
  "nbformat_minor": 0,
  "metadata": {
    "colab": {
      "name": "CBB750_SQL_Lab.ipynb",
      "provenance": [],
      "collapsed_sections": [],
      "include_colab_link": true
    },
    "kernelspec": {
      "name": "python3",
      "display_name": "Python 3"
    }
  },
  "cells": [
    {
      "cell_type": "markdown",
      "metadata": {
        "id": "view-in-github",
        "colab_type": "text"
      },
      "source": [
        "<a href=\"https://colab.research.google.com/github/kcheung2/cbb750/blob/main/CBB750_SQL_Lab.ipynb\" target=\"_parent\"><img src=\"https://colab.research.google.com/assets/colab-badge.svg\" alt=\"Open In Colab\"/></a>"
      ]
    },
    {
      "cell_type": "markdown",
      "metadata": {
        "id": "B9zxBBtwRHjD"
      },
      "source": [
        "## This notebook demonstrates mysql server installation, database creation, table population, python database connection and SQL query "
      ]
    },
    {
      "cell_type": "code",
      "metadata": {
        "id": "pns6Ngd-hKRe",
        "colab": {
          "base_uri": "https://localhost:8080/"
        },
        "outputId": "ef01f7f6-096a-491e-962c-01ae9ecfe26e"
      },
      "source": [
        "#install mysql\n",
        "!apt install mysql-server libmysqlclient-dev"
      ],
      "execution_count": 1,
      "outputs": [
        {
          "output_type": "stream",
          "text": [
            "Reading package lists... Done\n",
            "Building dependency tree       \n",
            "Reading state information... Done\n",
            "The following additional packages will be installed:\n",
            "  libcgi-fast-perl libcgi-pm-perl libencode-locale-perl libevent-core-2.1-6\n",
            "  libfcgi-perl libhtml-parser-perl libhtml-tagset-perl libhtml-template-perl\n",
            "  libhttp-date-perl libhttp-message-perl libio-html-perl\n",
            "  liblwp-mediatypes-perl libtimedate-perl liburi-perl mysql-client-5.7\n",
            "  mysql-client-core-5.7 mysql-server-5.7 mysql-server-core-5.7\n",
            "Suggested packages:\n",
            "  libdata-dump-perl libipc-sharedcache-perl libwww-perl mailx tinyca\n",
            "The following NEW packages will be installed:\n",
            "  libcgi-fast-perl libcgi-pm-perl libencode-locale-perl libevent-core-2.1-6\n",
            "  libfcgi-perl libhtml-parser-perl libhtml-tagset-perl libhtml-template-perl\n",
            "  libhttp-date-perl libhttp-message-perl libio-html-perl\n",
            "  liblwp-mediatypes-perl libmysqlclient-dev libtimedate-perl liburi-perl\n",
            "  mysql-client-5.7 mysql-client-core-5.7 mysql-server mysql-server-5.7\n",
            "  mysql-server-core-5.7\n",
            "0 upgraded, 20 newly installed, 0 to remove and 15 not upgraded.\n",
            "Need to get 20.7 MB of archives.\n",
            "After this operation, 163 MB of additional disk space will be used.\n",
            "Get:1 http://archive.ubuntu.com/ubuntu bionic-updates/main amd64 mysql-client-core-5.7 amd64 5.7.33-0ubuntu0.18.04.1 [6,664 kB]\n",
            "Get:2 http://archive.ubuntu.com/ubuntu bionic-updates/main amd64 mysql-client-5.7 amd64 5.7.33-0ubuntu0.18.04.1 [1,945 kB]\n",
            "Get:3 http://archive.ubuntu.com/ubuntu bionic-updates/main amd64 mysql-server-core-5.7 amd64 5.7.33-0ubuntu0.18.04.1 [7,460 kB]\n",
            "Get:4 http://archive.ubuntu.com/ubuntu bionic/main amd64 libevent-core-2.1-6 amd64 2.1.8-stable-4build1 [85.9 kB]\n",
            "Get:5 http://archive.ubuntu.com/ubuntu bionic-updates/main amd64 mysql-server-5.7 amd64 5.7.33-0ubuntu0.18.04.1 [2,931 kB]\n",
            "Get:6 http://archive.ubuntu.com/ubuntu bionic/main amd64 libhtml-tagset-perl all 3.20-3 [12.1 kB]\n",
            "Get:7 http://archive.ubuntu.com/ubuntu bionic/main amd64 liburi-perl all 1.73-1 [77.2 kB]\n",
            "Get:8 http://archive.ubuntu.com/ubuntu bionic/main amd64 libhtml-parser-perl amd64 3.72-3build1 [85.9 kB]\n",
            "Get:9 http://archive.ubuntu.com/ubuntu bionic/main amd64 libcgi-pm-perl all 4.38-1 [185 kB]\n",
            "Get:10 http://archive.ubuntu.com/ubuntu bionic/main amd64 libfcgi-perl amd64 0.78-2build1 [32.8 kB]\n",
            "Get:11 http://archive.ubuntu.com/ubuntu bionic/main amd64 libcgi-fast-perl all 1:2.13-1 [9,940 B]\n",
            "Get:12 http://archive.ubuntu.com/ubuntu bionic/main amd64 libencode-locale-perl all 1.05-1 [12.3 kB]\n",
            "Get:13 http://archive.ubuntu.com/ubuntu bionic/main amd64 libhtml-template-perl all 2.97-1 [59.0 kB]\n",
            "Get:14 http://archive.ubuntu.com/ubuntu bionic/main amd64 libtimedate-perl all 2.3000-2 [37.5 kB]\n",
            "Get:15 http://archive.ubuntu.com/ubuntu bionic/main amd64 libhttp-date-perl all 6.02-1 [10.4 kB]\n",
            "Get:16 http://archive.ubuntu.com/ubuntu bionic/main amd64 libio-html-perl all 1.001-1 [14.9 kB]\n",
            "Get:17 http://archive.ubuntu.com/ubuntu bionic/main amd64 liblwp-mediatypes-perl all 6.02-1 [21.7 kB]\n",
            "Get:18 http://archive.ubuntu.com/ubuntu bionic/main amd64 libhttp-message-perl all 6.14-1 [72.1 kB]\n",
            "Get:19 http://archive.ubuntu.com/ubuntu bionic-updates/main amd64 libmysqlclient-dev amd64 5.7.33-0ubuntu0.18.04.1 [989 kB]\n",
            "Get:20 http://archive.ubuntu.com/ubuntu bionic-updates/main amd64 mysql-server all 5.7.33-0ubuntu0.18.04.1 [9,944 B]\n",
            "Fetched 20.7 MB in 2s (12.2 MB/s)\n",
            "Preconfiguring packages ...\n",
            "Selecting previously unselected package mysql-client-core-5.7.\n",
            "(Reading database ... 146442 files and directories currently installed.)\n",
            "Preparing to unpack .../00-mysql-client-core-5.7_5.7.33-0ubuntu0.18.04.1_amd64.deb ...\n",
            "Unpacking mysql-client-core-5.7 (5.7.33-0ubuntu0.18.04.1) ...\n",
            "Selecting previously unselected package mysql-client-5.7.\n",
            "Preparing to unpack .../01-mysql-client-5.7_5.7.33-0ubuntu0.18.04.1_amd64.deb ...\n",
            "Unpacking mysql-client-5.7 (5.7.33-0ubuntu0.18.04.1) ...\n",
            "Selecting previously unselected package mysql-server-core-5.7.\n",
            "Preparing to unpack .../02-mysql-server-core-5.7_5.7.33-0ubuntu0.18.04.1_amd64.deb ...\n",
            "Unpacking mysql-server-core-5.7 (5.7.33-0ubuntu0.18.04.1) ...\n",
            "Selecting previously unselected package libevent-core-2.1-6:amd64.\n",
            "Preparing to unpack .../03-libevent-core-2.1-6_2.1.8-stable-4build1_amd64.deb ...\n",
            "Unpacking libevent-core-2.1-6:amd64 (2.1.8-stable-4build1) ...\n",
            "Selecting previously unselected package mysql-server-5.7.\n",
            "Preparing to unpack .../04-mysql-server-5.7_5.7.33-0ubuntu0.18.04.1_amd64.deb ...\n",
            "Unpacking mysql-server-5.7 (5.7.33-0ubuntu0.18.04.1) ...\n",
            "Selecting previously unselected package libhtml-tagset-perl.\n",
            "Preparing to unpack .../05-libhtml-tagset-perl_3.20-3_all.deb ...\n",
            "Unpacking libhtml-tagset-perl (3.20-3) ...\n",
            "Selecting previously unselected package liburi-perl.\n",
            "Preparing to unpack .../06-liburi-perl_1.73-1_all.deb ...\n",
            "Unpacking liburi-perl (1.73-1) ...\n",
            "Selecting previously unselected package libhtml-parser-perl.\n",
            "Preparing to unpack .../07-libhtml-parser-perl_3.72-3build1_amd64.deb ...\n",
            "Unpacking libhtml-parser-perl (3.72-3build1) ...\n",
            "Selecting previously unselected package libcgi-pm-perl.\n",
            "Preparing to unpack .../08-libcgi-pm-perl_4.38-1_all.deb ...\n",
            "Unpacking libcgi-pm-perl (4.38-1) ...\n",
            "Selecting previously unselected package libfcgi-perl.\n",
            "Preparing to unpack .../09-libfcgi-perl_0.78-2build1_amd64.deb ...\n",
            "Unpacking libfcgi-perl (0.78-2build1) ...\n",
            "Selecting previously unselected package libcgi-fast-perl.\n",
            "Preparing to unpack .../10-libcgi-fast-perl_1%3a2.13-1_all.deb ...\n",
            "Unpacking libcgi-fast-perl (1:2.13-1) ...\n",
            "Selecting previously unselected package libencode-locale-perl.\n",
            "Preparing to unpack .../11-libencode-locale-perl_1.05-1_all.deb ...\n",
            "Unpacking libencode-locale-perl (1.05-1) ...\n",
            "Selecting previously unselected package libhtml-template-perl.\n",
            "Preparing to unpack .../12-libhtml-template-perl_2.97-1_all.deb ...\n",
            "Unpacking libhtml-template-perl (2.97-1) ...\n",
            "Selecting previously unselected package libtimedate-perl.\n",
            "Preparing to unpack .../13-libtimedate-perl_2.3000-2_all.deb ...\n",
            "Unpacking libtimedate-perl (2.3000-2) ...\n",
            "Selecting previously unselected package libhttp-date-perl.\n",
            "Preparing to unpack .../14-libhttp-date-perl_6.02-1_all.deb ...\n",
            "Unpacking libhttp-date-perl (6.02-1) ...\n",
            "Selecting previously unselected package libio-html-perl.\n",
            "Preparing to unpack .../15-libio-html-perl_1.001-1_all.deb ...\n",
            "Unpacking libio-html-perl (1.001-1) ...\n",
            "Selecting previously unselected package liblwp-mediatypes-perl.\n",
            "Preparing to unpack .../16-liblwp-mediatypes-perl_6.02-1_all.deb ...\n",
            "Unpacking liblwp-mediatypes-perl (6.02-1) ...\n",
            "Selecting previously unselected package libhttp-message-perl.\n",
            "Preparing to unpack .../17-libhttp-message-perl_6.14-1_all.deb ...\n",
            "Unpacking libhttp-message-perl (6.14-1) ...\n",
            "Selecting previously unselected package libmysqlclient-dev.\n",
            "Preparing to unpack .../18-libmysqlclient-dev_5.7.33-0ubuntu0.18.04.1_amd64.deb ...\n",
            "Unpacking libmysqlclient-dev (5.7.33-0ubuntu0.18.04.1) ...\n",
            "Selecting previously unselected package mysql-server.\n",
            "Preparing to unpack .../19-mysql-server_5.7.33-0ubuntu0.18.04.1_all.deb ...\n",
            "Unpacking mysql-server (5.7.33-0ubuntu0.18.04.1) ...\n",
            "Setting up libhtml-tagset-perl (3.20-3) ...\n",
            "Setting up libevent-core-2.1-6:amd64 (2.1.8-stable-4build1) ...\n",
            "Setting up libmysqlclient-dev (5.7.33-0ubuntu0.18.04.1) ...\n",
            "Setting up libencode-locale-perl (1.05-1) ...\n",
            "Setting up mysql-server-core-5.7 (5.7.33-0ubuntu0.18.04.1) ...\n",
            "Setting up libtimedate-perl (2.3000-2) ...\n",
            "Setting up libio-html-perl (1.001-1) ...\n",
            "Setting up liblwp-mediatypes-perl (6.02-1) ...\n",
            "Setting up liburi-perl (1.73-1) ...\n",
            "Setting up libhtml-parser-perl (3.72-3build1) ...\n",
            "Setting up libcgi-pm-perl (4.38-1) ...\n",
            "Setting up mysql-client-core-5.7 (5.7.33-0ubuntu0.18.04.1) ...\n",
            "Setting up libfcgi-perl (0.78-2build1) ...\n",
            "Setting up libhttp-date-perl (6.02-1) ...\n",
            "Setting up libhtml-template-perl (2.97-1) ...\n",
            "Setting up libcgi-fast-perl (1:2.13-1) ...\n",
            "Setting up libhttp-message-perl (6.14-1) ...\n",
            "Setting up mysql-client-5.7 (5.7.33-0ubuntu0.18.04.1) ...\n",
            "Setting up mysql-server-5.7 (5.7.33-0ubuntu0.18.04.1) ...\n",
            "invoke-rc.d: could not determine current runlevel\n",
            "invoke-rc.d: policy-rc.d denied execution of stop.\n",
            "update-alternatives: using /etc/mysql/mysql.cnf to provide /etc/mysql/my.cnf (my.cnf) in auto mode\n",
            "Renaming removed key_buffer and myisam-recover options (if present)\n",
            "Error: Unable to shut down server with process id 405\n",
            "\u001b[1mdpkg:\u001b[0m error processing package mysql-server-5.7 (--configure):\n",
            " installed mysql-server-5.7 package post-installation script subprocess returned error exit status 1\n",
            "\u001b[1mdpkg:\u001b[0m dependency problems prevent configuration of mysql-server:\n",
            " mysql-server depends on mysql-server-5.7; however:\n",
            "  Package mysql-server-5.7 is not configured yet.\n",
            "\n",
            "\u001b[1mdpkg:\u001b[0m error processing package mysql-server (--configure):\n",
            " dependency problems - leaving unconfigured\n",
            "Processing triggers for systemd (237-3ubuntu10.44) ...\n",
            "Processing triggers for man-db (2.8.3-2ubuntu0.1) ...\n",
            "Processing triggers for libc-bin (2.27-3ubuntu1.3) ...\n",
            "/sbin/ldconfig.real: /usr/local/lib/python3.6/dist-packages/ideep4py/lib/libmkldnn.so.0 is not a symbolic link\n",
            "\n",
            "Errors were encountered while processing:\n",
            " mysql-server-5.7\n",
            " mysql-server\n",
            "E: Sub-process /usr/bin/dpkg returned an error code (1)\n"
          ],
          "name": "stdout"
        }
      ]
    },
    {
      "cell_type": "code",
      "metadata": {
        "id": "Q3eLzEUlkT-L",
        "colab": {
          "base_uri": "https://localhost:8080/"
        },
        "outputId": "ba377dc7-542e-4f07-f465-b01f6a1a8f97"
      },
      "source": [
        "#start mysql server\n",
        "!service mysql start"
      ],
      "execution_count": 2,
      "outputs": [
        {
          "output_type": "stream",
          "text": [
            " * Starting MySQL database server mysqld\n",
            "No directory, logging in with HOME=/\n",
            "   ...done.\n"
          ],
          "name": "stdout"
        }
      ]
    },
    {
      "cell_type": "code",
      "metadata": {
        "id": "sLg9IpBRkZqL"
      },
      "source": [
        "#alter the root user to accept cbb750 as the root password\n",
        "!mysql -e \"ALTER USER 'root'@'localhost' IDENTIFIED WITH mysql_native_password BY 'cbb750'\""
      ],
      "execution_count": 3,
      "outputs": []
    },
    {
      "cell_type": "markdown",
      "metadata": {
        "id": "NVgZF6rfPvMu"
      },
      "source": [
        "## **Mount the google drive**"
      ]
    },
    {
      "cell_type": "code",
      "metadata": {
        "id": "ks5DFjp9PpQO",
        "colab": {
          "base_uri": "https://localhost:8080/"
        },
        "outputId": "e3ace35c-a470-4fd4-c307-91fb9074be6a"
      },
      "source": [
        "from google.colab import drive\n",
        "drive.mount('/content/gdrive')\n"
      ],
      "execution_count": 5,
      "outputs": [
        {
          "output_type": "stream",
          "text": [
            "Mounted at /content/gdrive\n"
          ],
          "name": "stdout"
        }
      ]
    },
    {
      "cell_type": "code",
      "metadata": {
        "id": "dReDXUtLAWUr",
        "colab": {
          "base_uri": "https://localhost:8080/"
        },
        "outputId": "c6c9fbd0-6dca-4a07-f13d-8ac8d42ce1c6"
      },
      "source": [
        "#create the mimic database and tables; and replace /content/gdrive/MyDrive/cbb750/lab_hw/mimic_test_create.sql if needed\r\n",
        "!mysql -uroot -pcbb750 -e \"DROP DATABASE IF EXISTS mimic;\\\r\n",
        "CREATE DATABASE IF NOT EXISTS mimic;\\\r\n",
        "USE mimic;\\\r\n",
        "SOURCE /content/gdrive/MyDrive/cbb750/lab_hw/mimic_test_create.sql;\\\r\n",
        "COMMIT;\""
      ],
      "execution_count": 6,
      "outputs": [
        {
          "output_type": "stream",
          "text": [
            "mysql: [Warning] Using a password on the command line interface can be insecure.\n"
          ],
          "name": "stdout"
        }
      ]
    },
    {
      "cell_type": "code",
      "metadata": {
        "id": "SEplzHVfloDb",
        "colab": {
          "base_uri": "https://localhost:8080/"
        },
        "outputId": "aff94acc-2237-48f4-b0cf-ff3bdfe72978"
      },
      "source": [
        "#install mysql connector in python\n",
        "!pip install mysql-connector-python"
      ],
      "execution_count": 7,
      "outputs": [
        {
          "output_type": "stream",
          "text": [
            "Collecting mysql-connector-python\n",
            "\u001b[?25l  Downloading https://files.pythonhosted.org/packages/cc/ec/102bf59d0cdeb3b8fc82d6669bf96d57d133e44811ff57ad5e941bd8588d/mysql_connector_python-8.0.23-cp36-cp36m-manylinux1_x86_64.whl (18.0MB)\n",
            "\u001b[K     |████████████████████████████████| 18.1MB 1.2MB/s \n",
            "\u001b[?25hRequirement already satisfied: protobuf>=3.0.0 in /usr/local/lib/python3.6/dist-packages (from mysql-connector-python) (3.12.4)\n",
            "Requirement already satisfied: setuptools in /usr/local/lib/python3.6/dist-packages (from protobuf>=3.0.0->mysql-connector-python) (53.0.0)\n",
            "Requirement already satisfied: six>=1.9 in /usr/local/lib/python3.6/dist-packages (from protobuf>=3.0.0->mysql-connector-python) (1.15.0)\n",
            "Installing collected packages: mysql-connector-python\n",
            "Successfully installed mysql-connector-python-8.0.23\n"
          ],
          "name": "stdout"
        }
      ]
    },
    {
      "cell_type": "markdown",
      "metadata": {
        "id": "-pqRK8C8iZ6D"
      },
      "source": [
        "## **Python code**"
      ]
    },
    {
      "cell_type": "code",
      "metadata": {
        "id": "qkeu6aFz_2Va",
        "colab": {
          "base_uri": "https://localhost:8080/"
        },
        "outputId": "d8dd2313-02c4-42e0-a772-883672eae501"
      },
      "source": [
        "import pandas as pd\n",
        "import mysql.connector\n",
        "\n",
        "cnx = mysql.connector.connect(user='root',\n",
        "                                password='cbb750',\n",
        "                                host='127.0.0.1',\n",
        "                              allow_local_infile=True)\n",
        "\n",
        "\n",
        "db_cursor = cnx.cursor()\n",
        "db_cursor.execute(\"USE mimic\")\n",
        "\n",
        "#if needed, replace /content/gdrive/MyDrive/cbb750/lab_hw/PATIENTS.csv \n",
        "\n",
        "db_cursor.execute(\"Load data local infile \\\n",
        "'/content/gdrive/MyDrive/cbb750/lab_hw/PATIENTS.csv'\\\n",
        " into table Patients fields terminated by ',' ignore 1 lines\")\n",
        "statement=\"SELECT subject_id,gender,dob FROM Patients;\"\n",
        "SQL_Query=pd.read_sql_query(statement, cnx)\n",
        "pd.set_option('display.max_rows', None)\n",
        "df = pd.DataFrame(SQL_Query, columns=['subject_id','gender','dob'])\n",
        "print (df)\n",
        "\n"
      ],
      "execution_count": 9,
      "outputs": [
        {
          "output_type": "stream",
          "text": [
            "    subject_id gender        dob\n",
            "0        10006      F 2094-03-05\n",
            "1        10011      F 2090-06-05\n",
            "2        10013      F 2038-09-03\n",
            "3        10017      F 2075-09-21\n",
            "4        10019      M 2114-06-20\n",
            "5        10026      F 1895-05-17\n",
            "6        10027      F 2108-01-15\n",
            "7        10029      M 2061-04-10\n",
            "8        10032      M 2050-03-29\n",
            "9        10033      F 2051-04-21\n",
            "10       10035      M 2053-04-13\n",
            "11       10036      F 1885-03-24\n",
            "12       10038      F 2056-01-27\n",
            "13       10040      F 2061-10-23\n",
            "14       10042      M 2076-05-06\n",
            "15       10043      M 2109-04-07\n",
            "16       10044      F 2071-02-11\n",
            "17       10045      F 2061-03-25\n",
            "18       10046      F 2141-03-15\n",
            "19       10056      F 2046-02-27\n",
            "20       10059      M 2081-01-03\n",
            "21       10061      F 2031-05-19\n",
            "22       10064      M 2058-04-23\n",
            "23       10065      F 2111-07-18\n",
            "24       10067      M 2101-06-10\n",
            "25       10069      F 2146-10-23\n",
            "26       10074      M 2081-12-26\n",
            "27       10076      M 2038-05-10\n",
            "28       10083      F 2110-03-25\n",
            "29       10088      M 2029-07-09\n",
            "30       10089      M 2046-04-18\n",
            "31       10090      M 2096-02-27\n",
            "32       10093      M 2053-09-08\n",
            "33       10094      M 1880-02-29\n",
            "34       10098      F 2150-12-07\n",
            "35       10101      M 2055-07-18\n",
            "36       10102      M 2035-04-13\n",
            "37       10104      F 2050-02-16\n",
            "38       10106      M 2097-12-16\n",
            "39       10111      F 2097-01-16\n",
            "40       10112      F 2069-05-05\n",
            "41       10114      F 2099-03-17\n",
            "42       10117      F 2072-05-05\n",
            "43       10119      M 2036-03-10\n",
            "44       10120      M 2088-05-05\n",
            "45       10124      F 2108-12-20\n",
            "46       10126      F 2127-06-04\n",
            "47       10127      F 2181-04-19\n",
            "48       10130      M 2109-07-08\n",
            "49       10132      F 2058-04-23\n",
            "50       40124      F 2063-07-05\n",
            "51       40177      M 2082-06-27\n",
            "52       40204      M 2079-08-17\n",
            "53       40277      F 2070-10-11\n",
            "54       40286      F 2110-04-02\n",
            "55       40304      M 2086-12-16\n",
            "56       40310      M 2103-12-05\n",
            "57       40456      F 2031-08-12\n",
            "58       40503      F 2097-11-14\n",
            "59       40595      F 2068-03-04\n",
            "60       40601      F 2112-01-20\n",
            "61       40612      F 2073-08-13\n",
            "62       40655      F 1844-07-18\n",
            "63       40687      F 2073-06-05\n",
            "64       41795      M 2096-07-25\n",
            "65       41914      M 2090-11-16\n",
            "66       41976      M 2136-07-28\n",
            "67       41983      F 1851-09-12\n",
            "68       42033      F 2045-10-07\n",
            "69       42066      M 2061-06-13\n",
            "70       42075      M 2086-02-04\n",
            "71       42135      M 2083-09-20\n",
            "72       42199      F 2044-06-27\n",
            "73       42231      F 2016-12-05\n",
            "74       42275      M 2058-08-04\n",
            "75       42281      F 2051-03-23\n",
            "76       42292      M 2098-04-29\n",
            "77       42302      F 2074-09-29\n",
            "78       42321      F 2041-05-16\n",
            "79       42346      F 2072-12-03\n",
            "80       42367      F 2060-02-12\n",
            "81       42412      M 2079-01-29\n",
            "82       42430      M 2061-12-10\n",
            "83       42458      M 1846-07-21\n",
            "84       43735      M 2046-07-05\n",
            "85       43746      F 2029-12-07\n",
            "86       43748      M 2099-09-02\n",
            "87       43779      M 2097-01-07\n",
            "88       43798      M 2136-07-29\n",
            "89       43827      F 1876-07-14\n",
            "90       43870      F 2097-05-16\n",
            "91       43879      F 2051-07-25\n",
            "92       43881      M 2051-03-24\n",
            "93       43909      F 2073-11-22\n",
            "94       43927      F 2104-02-12\n",
            "95       44083      M 2057-11-15\n",
            "96       44154      M 1878-05-14\n",
            "97       44212      F 2078-06-16\n",
            "98       44222      M 2107-06-27\n",
            "99       44228      F 2112-10-22\n"
          ],
          "name": "stdout"
        }
      ]
    }
  ]
}